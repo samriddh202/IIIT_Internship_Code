{
  "nbformat": 4,
  "nbformat_minor": 0,
  "metadata": {
    "colab": {
      "name": "Image_autoencoder.ipynb",
      "provenance": [],
      "collapsed_sections": [],
      "authorship_tag": "ABX9TyPjizPpNxfliGWhC6YZQXle",
      "include_colab_link": true
    },
    "kernelspec": {
      "name": "python3",
      "display_name": "Python 3"
    },
    "widgets": {
      "application/vnd.jupyter.widget-state+json": {
        "4490348249054b9bb85587a055554a66": {
          "model_module": "@jupyter-widgets/controls",
          "model_name": "HBoxModel",
          "state": {
            "_view_name": "HBoxView",
            "_dom_classes": [],
            "_model_name": "HBoxModel",
            "_view_module": "@jupyter-widgets/controls",
            "_model_module_version": "1.5.0",
            "_view_count": null,
            "_view_module_version": "1.5.0",
            "box_style": "",
            "layout": "IPY_MODEL_080158ee0dc94cf39d86c6d8ff0ed5e7",
            "_model_module": "@jupyter-widgets/controls",
            "children": [
              "IPY_MODEL_d904e5b968ad48f4b6b91d25bc838713",
              "IPY_MODEL_2178d43d10f3435bbdfe5e391ce94bd0"
            ]
          }
        },
        "080158ee0dc94cf39d86c6d8ff0ed5e7": {
          "model_module": "@jupyter-widgets/base",
          "model_name": "LayoutModel",
          "state": {
            "_view_name": "LayoutView",
            "grid_template_rows": null,
            "right": null,
            "justify_content": null,
            "_view_module": "@jupyter-widgets/base",
            "overflow": null,
            "_model_module_version": "1.2.0",
            "_view_count": null,
            "flex_flow": null,
            "width": null,
            "min_width": null,
            "border": null,
            "align_items": null,
            "bottom": null,
            "_model_module": "@jupyter-widgets/base",
            "top": null,
            "grid_column": null,
            "overflow_y": null,
            "overflow_x": null,
            "grid_auto_flow": null,
            "grid_area": null,
            "grid_template_columns": null,
            "flex": null,
            "_model_name": "LayoutModel",
            "justify_items": null,
            "grid_row": null,
            "max_height": null,
            "align_content": null,
            "visibility": null,
            "align_self": null,
            "height": null,
            "min_height": null,
            "padding": null,
            "grid_auto_rows": null,
            "grid_gap": null,
            "max_width": null,
            "order": null,
            "_view_module_version": "1.2.0",
            "grid_template_areas": null,
            "object_position": null,
            "object_fit": null,
            "grid_auto_columns": null,
            "margin": null,
            "display": null,
            "left": null
          }
        },
        "d904e5b968ad48f4b6b91d25bc838713": {
          "model_module": "@jupyter-widgets/controls",
          "model_name": "FloatProgressModel",
          "state": {
            "_view_name": "ProgressView",
            "style": "IPY_MODEL_969ece5bda2545a88d383c44ed29d1a4",
            "_dom_classes": [],
            "description": "100%",
            "_model_name": "FloatProgressModel",
            "bar_style": "success",
            "max": 18983,
            "_view_module": "@jupyter-widgets/controls",
            "_model_module_version": "1.5.0",
            "value": 18983,
            "_view_count": null,
            "_view_module_version": "1.5.0",
            "orientation": "horizontal",
            "min": 0,
            "description_tooltip": null,
            "_model_module": "@jupyter-widgets/controls",
            "layout": "IPY_MODEL_8ec72774f3fe45748a8ad15c79e12d65"
          }
        },
        "2178d43d10f3435bbdfe5e391ce94bd0": {
          "model_module": "@jupyter-widgets/controls",
          "model_name": "HTMLModel",
          "state": {
            "_view_name": "HTMLView",
            "style": "IPY_MODEL_e30de4eb607d40289e9e10ea89704724",
            "_dom_classes": [],
            "description": "",
            "_model_name": "HTMLModel",
            "placeholder": "​",
            "_view_module": "@jupyter-widgets/controls",
            "_model_module_version": "1.5.0",
            "value": " 18983/18983 [00:17&lt;00:00, 1082.18it/s]",
            "_view_count": null,
            "_view_module_version": "1.5.0",
            "description_tooltip": null,
            "_model_module": "@jupyter-widgets/controls",
            "layout": "IPY_MODEL_9f237d043d0e415d99e2f2dbe05f6003"
          }
        },
        "969ece5bda2545a88d383c44ed29d1a4": {
          "model_module": "@jupyter-widgets/controls",
          "model_name": "ProgressStyleModel",
          "state": {
            "_view_name": "StyleView",
            "_model_name": "ProgressStyleModel",
            "description_width": "initial",
            "_view_module": "@jupyter-widgets/base",
            "_model_module_version": "1.5.0",
            "_view_count": null,
            "_view_module_version": "1.2.0",
            "bar_color": null,
            "_model_module": "@jupyter-widgets/controls"
          }
        },
        "8ec72774f3fe45748a8ad15c79e12d65": {
          "model_module": "@jupyter-widgets/base",
          "model_name": "LayoutModel",
          "state": {
            "_view_name": "LayoutView",
            "grid_template_rows": null,
            "right": null,
            "justify_content": null,
            "_view_module": "@jupyter-widgets/base",
            "overflow": null,
            "_model_module_version": "1.2.0",
            "_view_count": null,
            "flex_flow": null,
            "width": null,
            "min_width": null,
            "border": null,
            "align_items": null,
            "bottom": null,
            "_model_module": "@jupyter-widgets/base",
            "top": null,
            "grid_column": null,
            "overflow_y": null,
            "overflow_x": null,
            "grid_auto_flow": null,
            "grid_area": null,
            "grid_template_columns": null,
            "flex": null,
            "_model_name": "LayoutModel",
            "justify_items": null,
            "grid_row": null,
            "max_height": null,
            "align_content": null,
            "visibility": null,
            "align_self": null,
            "height": null,
            "min_height": null,
            "padding": null,
            "grid_auto_rows": null,
            "grid_gap": null,
            "max_width": null,
            "order": null,
            "_view_module_version": "1.2.0",
            "grid_template_areas": null,
            "object_position": null,
            "object_fit": null,
            "grid_auto_columns": null,
            "margin": null,
            "display": null,
            "left": null
          }
        },
        "e30de4eb607d40289e9e10ea89704724": {
          "model_module": "@jupyter-widgets/controls",
          "model_name": "DescriptionStyleModel",
          "state": {
            "_view_name": "StyleView",
            "_model_name": "DescriptionStyleModel",
            "description_width": "",
            "_view_module": "@jupyter-widgets/base",
            "_model_module_version": "1.5.0",
            "_view_count": null,
            "_view_module_version": "1.2.0",
            "_model_module": "@jupyter-widgets/controls"
          }
        },
        "9f237d043d0e415d99e2f2dbe05f6003": {
          "model_module": "@jupyter-widgets/base",
          "model_name": "LayoutModel",
          "state": {
            "_view_name": "LayoutView",
            "grid_template_rows": null,
            "right": null,
            "justify_content": null,
            "_view_module": "@jupyter-widgets/base",
            "overflow": null,
            "_model_module_version": "1.2.0",
            "_view_count": null,
            "flex_flow": null,
            "width": null,
            "min_width": null,
            "border": null,
            "align_items": null,
            "bottom": null,
            "_model_module": "@jupyter-widgets/base",
            "top": null,
            "grid_column": null,
            "overflow_y": null,
            "overflow_x": null,
            "grid_auto_flow": null,
            "grid_area": null,
            "grid_template_columns": null,
            "flex": null,
            "_model_name": "LayoutModel",
            "justify_items": null,
            "grid_row": null,
            "max_height": null,
            "align_content": null,
            "visibility": null,
            "align_self": null,
            "height": null,
            "min_height": null,
            "padding": null,
            "grid_auto_rows": null,
            "grid_gap": null,
            "max_width": null,
            "order": null,
            "_view_module_version": "1.2.0",
            "grid_template_areas": null,
            "object_position": null,
            "object_fit": null,
            "grid_auto_columns": null,
            "margin": null,
            "display": null,
            "left": null
          }
        }
      }
    }
  },
  "cells": [
    {
      "cell_type": "markdown",
      "metadata": {
        "id": "view-in-github",
        "colab_type": "text"
      },
      "source": [
        "<a href=\"https://colab.research.google.com/github/samriddh202/IIIT_Internship_Code/blob/main/Image_autoencoder.ipynb\" target=\"_parent\"><img src=\"https://colab.research.google.com/assets/colab-badge.svg\" alt=\"Open In Colab\"/></a>"
      ]
    },
    {
      "cell_type": "code",
      "metadata": {
        "id": "_myoLDuoDoZw",
        "outputId": "06c101e0-106d-4d1c-8afd-6a0ca895f964",
        "colab": {
          "base_uri": "https://localhost:8080/",
          "height": 50
        }
      },
      "source": [
        "\n",
        "import numpy as np\n",
        "import pandas as pd\n",
        "import keras\n",
        "import tqdm\n",
        "from sklearn.model_selection import train_test_split\n",
        "import tarfile\n",
        "import matplotlib.pyplot as plt\n",
        "from keras.layers import Dense, Flatten, Reshape, Input, InputLayer\n",
        "from keras.models import Sequential, Model\n",
        "import cv2\n",
        "import os\n",
        "try:\n",
        "    from google.colab import drive\n",
        "    drive.mount('/content/drive', force_remount=True)\n",
        "    COLAB = True\n",
        "    print(\"Note: using Google CoLab\")\n",
        "    %tensorflow_version 2.x\n",
        "except:\n",
        "    print(\"Note: not using Google CoLab\")\n",
        "    COLAB = False"
      ],
      "execution_count": null,
      "outputs": [
        {
          "output_type": "stream",
          "text": [
            "Mounted at /content/drive\n",
            "Note: using Google CoLab\n"
          ],
          "name": "stdout"
        }
      ]
    },
    {
      "cell_type": "code",
      "metadata": {
        "id": "6yibCdsDHLm2"
      },
      "source": [
        "\n",
        "ATTRS_NAME = \"/content/drive/My Drive/Dataset/Face_generator/lfw_attributes.txt\"\n",
        "\n",
        "IMAGES_NAME = \"/content/drive/My Drive/Dataset/Face_generator/lfw-deepfunneled.tgz\"\n",
        "\n",
        "RAW_IMAGES_NAME = \"/content/drive/My Drive/Dataset/Face_generator/lfw.tgz\"\n"
      ],
      "execution_count": null,
      "outputs": []
    },
    {
      "cell_type": "code",
      "metadata": {
        "id": "t5-Da4cufxN_"
      },
      "source": [
        "def decode_image_from_raw_bytes(raw_bytes):\n",
        "    img = cv2.imdecode(np.asarray(bytearray(raw_bytes), dtype=np.uint8), 1)\n",
        "    img = cv2.cvtColor(img, cv2.COLOR_BGR2RGB)\n",
        "    return img"
      ],
      "execution_count": null,
      "outputs": []
    },
    {
      "cell_type": "code",
      "metadata": {
        "id": "1d5lBcKigq7l"
      },
      "source": [
        "def load_lfw_dataset(\n",
        "        use_raw=False,\n",
        "        dx=80, dy=80,\n",
        "        dimx=45, dimy=45):\n",
        "\n",
        "    # Read attrs\n",
        "    df_attrs = pd.read_csv(ATTRS_NAME, sep='\\t', skiprows=1)\n",
        "    df_attrs = pd.DataFrame(df_attrs.iloc[:, :-1].values, columns=df_attrs.columns[1:])\n",
        "    imgs_with_attrs = set(map(tuple, df_attrs[[\"person\", \"imagenum\"]].values))\n",
        "\n",
        "    # Read photos\n",
        "    all_photos = []\n",
        "    photo_ids = []\n",
        "\n",
        "    # tqdm in used to show progress bar while reading the data in a notebook here, you can change\n",
        "    # tqdm_notebook to use it outside a notebook\n",
        "    with tarfile.open(RAW_IMAGES_NAME if use_raw else IMAGES_NAME) as f:\n",
        "        for m in tqdm.tqdm_notebook(f.getmembers()):\n",
        "            # Only process image files from the compressed data\n",
        "            if m.isfile() and m.name.endswith(\".jpg\"):\n",
        "                # Prepare image\n",
        "                img = decode_image_from_raw_bytes(f.extractfile(m).read())\n",
        "\n",
        "                # Crop only faces and resize it\n",
        "                img = img[dy:-dy, dx:-dx]\n",
        "                img = cv2.resize(img, (dimx, dimy))\n",
        "\n",
        "                # Parse person and append it to the collected data\n",
        "                fname = os.path.split(m.name)[-1]\n",
        "                fname_splitted = fname[:-4].replace('_', ' ').split()\n",
        "                person_id = ' '.join(fname_splitted[:-1])\n",
        "                photo_number = int(fname_splitted[-1])\n",
        "                if (person_id, photo_number) in imgs_with_attrs:\n",
        "                    all_photos.append(img)\n",
        "                    photo_ids.append({'person': person_id, 'imagenum': photo_number})\n",
        "\n",
        "    photo_ids = pd.DataFrame(photo_ids)\n",
        "    all_photos = np.stack(all_photos).astype('uint8')\n",
        "\n",
        "    # Preserve photo_ids order!\n",
        "    all_attrs = photo_ids.merge(df_attrs, on=('person', 'imagenum')).drop([\"person\", \"imagenum\"], axis=1)\n",
        "\n",
        "    return all_photos, all_attrs"
      ],
      "execution_count": null,
      "outputs": []
    },
    {
      "cell_type": "code",
      "metadata": {
        "id": "2Fljkq72guEV",
        "outputId": "f10f363c-0bec-4354-ece8-9c6b3ac7d9e5",
        "colab": {
          "base_uri": "https://localhost:8080/",
          "height": 99,
          "referenced_widgets": [
            "4490348249054b9bb85587a055554a66",
            "080158ee0dc94cf39d86c6d8ff0ed5e7",
            "d904e5b968ad48f4b6b91d25bc838713",
            "2178d43d10f3435bbdfe5e391ce94bd0",
            "969ece5bda2545a88d383c44ed29d1a4",
            "8ec72774f3fe45748a8ad15c79e12d65",
            "e30de4eb607d40289e9e10ea89704724",
            "9f237d043d0e415d99e2f2dbe05f6003"
          ]
        }
      },
      "source": [
        "X, attr = load_lfw_dataset(use_raw=True, dimx=32, dimy=32)"
      ],
      "execution_count": null,
      "outputs": [
        {
          "output_type": "stream",
          "text": [
            "/usr/local/lib/python3.6/dist-packages/ipykernel_launcher.py:18: TqdmDeprecationWarning: This function will be removed in tqdm==5.0.0\n",
            "Please use `tqdm.notebook.tqdm` instead of `tqdm.tqdm_notebook`\n"
          ],
          "name": "stderr"
        },
        {
          "output_type": "display_data",
          "data": {
            "application/vnd.jupyter.widget-view+json": {
              "model_id": "4490348249054b9bb85587a055554a66",
              "version_minor": 0,
              "version_major": 2
            },
            "text/plain": [
              "HBox(children=(FloatProgress(value=0.0, max=18983.0), HTML(value='')))"
            ]
          },
          "metadata": {
            "tags": []
          }
        },
        {
          "output_type": "stream",
          "text": [
            "\n"
          ],
          "name": "stdout"
        }
      ]
    },
    {
      "cell_type": "code",
      "metadata": {
        "id": "h6kydAathE6t",
        "outputId": "2fd32b95-0c84-4291-b14d-aa0fde0d55b2",
        "colab": {
          "base_uri": "https://localhost:8080/",
          "height": 34
        }
      },
      "source": [
        "X = X.astype('float32') / 255.0 - 0.5\n",
        "type(X)"
      ],
      "execution_count": null,
      "outputs": [
        {
          "output_type": "execute_result",
          "data": {
            "text/plain": [
              "numpy.ndarray"
            ]
          },
          "metadata": {
            "tags": []
          },
          "execution_count": 6
        }
      ]
    },
    {
      "cell_type": "code",
      "metadata": {
        "id": "qRuMa6TahIHi"
      },
      "source": [
        "def show_image(x):\n",
        "    plt.imshow(np.clip(x + 0.5, 0, 1))"
      ],
      "execution_count": null,
      "outputs": []
    },
    {
      "cell_type": "code",
      "metadata": {
        "id": "52oIesGAhMbR",
        "outputId": "357c7feb-6a54-45e0-b1ce-f2a334783684",
        "colab": {
          "base_uri": "https://localhost:8080/",
          "height": 266
        }
      },
      "source": [
        "show_image(X[9])"
      ],
      "execution_count": null,
      "outputs": [
        {
          "output_type": "display_data",
          "data": {
            "image/png": "[encoded data removed]",
            "text/plain": [
              "<Figure size 432x288 with 1 Axes>"
            ]
          },
          "metadata": {
            "tags": [],
            "needs_background": "light"
          }
        }
      ]
    },
    {
      "cell_type": "code",
      "metadata": {
        "id": "YW2H4r8UhUBl"
      },
      "source": [
        "X_train, X_test = train_test_split(X, test_size=0.1, random_state=42)"
      ],
      "execution_count": null,
      "outputs": []
    },
    {
      "cell_type": "code",
      "metadata": {
        "id": "INQXzlu2hcc6"
      },
      "source": [
        "def build_autoencoder(img_shape, code_size):\n",
        "    # The encoder\n",
        "    encoder = Sequential()\n",
        "    encoder.add(InputLayer(img_shape))\n",
        "    encoder.add(Flatten())\n",
        "    encoder.add(Dense(code_size))\n",
        "\n",
        "    # The decoder\n",
        "    decoder = Sequential()\n",
        "    decoder.add(InputLayer((code_size,)))\n",
        "    decoder.add(Dense(np.prod(img_shape))) # np.prod(img_shape) is the same as 32*32*3, it's more generic than saying 3072\n",
        "    decoder.add(Reshape(img_shape))\n",
        "\n",
        "    return encoder, decoder"
      ],
      "execution_count": null,
      "outputs": []
    },
    {
      "cell_type": "code",
      "metadata": {
        "id": "0_BQiuFRhkq9",
        "outputId": "f2f5714e-825e-4fd6-ce94-4943ed7aca38",
        "colab": {
          "base_uri": "https://localhost:8080/",
          "height": 269
        }
      },
      "source": [
        "IMG_SHAPE = X.shape[1:]\n",
        "encoder, decoder = build_autoencoder(IMG_SHAPE, 100)\n",
        "\n",
        "inp = Input(IMG_SHAPE)\n",
        "code = encoder(inp)\n",
        "reconstruction = decoder(code)\n",
        "\n",
        "autoencoder = Model(inp,reconstruction)\n",
        "autoencoder.compile(optimizer='adamax', loss='mse')\n",
        "\n",
        "print(autoencoder.summary())"
      ],
      "execution_count": null,
      "outputs": [
        {
          "output_type": "stream",
          "text": [
            "Model: \"functional_1\"\n",
            "_________________________________________________________________\n",
            "Layer (type)                 Output Shape              Param #   \n",
            "=================================================================\n",
            "input_3 (InputLayer)         [(None, 32, 32, 3)]       0         \n",
            "_________________________________________________________________\n",
            "sequential (Sequential)      (None, 100)               307300    \n",
            "_________________________________________________________________\n",
            "sequential_1 (Sequential)    (None, 32, 32, 3)         310272    \n",
            "=================================================================\n",
            "Total params: 617,572\n",
            "Trainable params: 617,572\n",
            "Non-trainable params: 0\n",
            "_________________________________________________________________\n",
            "None\n"
          ],
          "name": "stdout"
        }
      ]
    },
    {
      "cell_type": "code",
      "metadata": {
        "id": "SuMBpT19hpQ5",
        "outputId": "7fbdd340-4de6-482e-edac-4046711d51a4",
        "colab": {
          "base_uri": "https://localhost:8080/",
          "height": 857
        }
      },
      "source": [
        "history = autoencoder.fit(x=X_train, y=X_train, epochs=25,\n",
        "                validation_data=[X_test, X_test])"
      ],
      "execution_count": null,
      "outputs": [
        {
          "output_type": "stream",
          "text": [
            "Epoch 1/25\n",
            "129/129 [==============================] - 1s 11ms/step - loss: 0.0031 - val_loss: 0.0000e+00\n",
            "Epoch 2/25\n",
            "129/129 [==============================] - 1s 11ms/step - loss: 0.0031 - val_loss: 0.0000e+00\n",
            "Epoch 3/25\n",
            "129/129 [==============================] - 1s 11ms/step - loss: 0.0031 - val_loss: 0.0000e+00\n",
            "Epoch 4/25\n",
            "129/129 [==============================] - 1s 11ms/step - loss: 0.0031 - val_loss: 0.0000e+00\n",
            "Epoch 5/25\n",
            "129/129 [==============================] - 1s 12ms/step - loss: 0.0031 - val_loss: 0.0000e+00\n",
            "Epoch 6/25\n",
            "129/129 [==============================] - 1s 10ms/step - loss: 0.0031 - val_loss: 0.0000e+00\n",
            "Epoch 7/25\n",
            "129/129 [==============================] - 1s 11ms/step - loss: 0.0031 - val_loss: 0.0000e+00\n",
            "Epoch 8/25\n",
            "129/129 [==============================] - 1s 11ms/step - loss: 0.0031 - val_loss: 0.0000e+00\n",
            "Epoch 9/25\n",
            "129/129 [==============================] - 1s 11ms/step - loss: 0.0031 - val_loss: 0.0000e+00\n",
            "Epoch 10/25\n",
            "129/129 [==============================] - 1s 11ms/step - loss: 0.0031 - val_loss: 0.0000e+00\n",
            "Epoch 11/25\n",
            "129/129 [==============================] - 1s 10ms/step - loss: 0.0031 - val_loss: 0.0000e+00\n",
            "Epoch 12/25\n",
            "129/129 [==============================] - 1s 11ms/step - loss: 0.0031 - val_loss: 0.0000e+00\n",
            "Epoch 13/25\n",
            "129/129 [==============================] - 2s 12ms/step - loss: 0.0031 - val_loss: 0.0000e+00\n",
            "Epoch 14/25\n",
            "129/129 [==============================] - 1s 12ms/step - loss: 0.0031 - val_loss: 0.0000e+00\n",
            "Epoch 15/25\n",
            "129/129 [==============================] - 1s 12ms/step - loss: 0.0031 - val_loss: 0.0000e+00\n",
            "Epoch 16/25\n",
            "129/129 [==============================] - 1s 11ms/step - loss: 0.0031 - val_loss: 0.0000e+00\n",
            "Epoch 17/25\n",
            "129/129 [==============================] - 1s 11ms/step - loss: 0.0031 - val_loss: 0.0000e+00\n",
            "Epoch 18/25\n",
            "129/129 [==============================] - 1s 12ms/step - loss: 0.0031 - val_loss: 0.0000e+00\n",
            "Epoch 19/25\n",
            "129/129 [==============================] - 2s 12ms/step - loss: 0.0031 - val_loss: 0.0000e+00\n",
            "Epoch 20/25\n",
            "129/129 [==============================] - 2s 12ms/step - loss: 0.0031 - val_loss: 0.0000e+00\n",
            "Epoch 21/25\n",
            "129/129 [==============================] - 2s 12ms/step - loss: 0.0031 - val_loss: 0.0000e+00\n",
            "Epoch 22/25\n",
            "129/129 [==============================] - 2s 12ms/step - loss: 0.0031 - val_loss: 0.0000e+00\n",
            "Epoch 23/25\n",
            "129/129 [==============================] - 2s 12ms/step - loss: 0.0031 - val_loss: 0.0000e+00\n",
            "Epoch 24/25\n",
            "129/129 [==============================] - 1s 11ms/step - loss: 0.0031 - val_loss: 0.0000e+00\n",
            "Epoch 25/25\n",
            "129/129 [==============================] - 1s 11ms/step - loss: 0.0031 - val_loss: 0.0000e+00\n"
          ],
          "name": "stdout"
        }
      ]
    },
    {
      "cell_type": "code",
      "metadata": {
        "id": "UFjJlJELhvXp",
        "outputId": "7dc31996-9c77-4c3b-c0ad-06849201ab03",
        "colab": {
          "base_uri": "https://localhost:8080/",
          "height": 295
        }
      },
      "source": [
        "plt.plot(history.history['loss'])\n",
        "plt.plot(history.history['val_loss'])\n",
        "plt.title('model loss')\n",
        "plt.ylabel('loss')\n",
        "plt.xlabel('epoch')\n",
        "plt.legend(['train', 'test'], loc='upper left')\n",
        "plt.show()"
      ],
      "execution_count": null,
      "outputs": [
        {
          "output_type": "display_data",
          "data": {
            "image/png": "[encoded data removed]",
            "text/plain": [
              "<Figure size 432x288 with 1 Axes>"
            ]
          },
          "metadata": {
            "tags": [],
            "needs_background": "light"
          }
        }
      ]
    },
    {
      "cell_type": "code",
      "metadata": {
        "id": "CRGMjVyTjdZV",
        "outputId": "48852aa0-b759-4e34-ac13-36ca2d838722",
        "colab": {
          "base_uri": "https://localhost:8080/",
          "height": 1000
        }
      },
      "source": [
        "def visualize(img,encoder,decoder):\n",
        "    \"\"\"Draws original, encoded and decoded images\"\"\"\n",
        "    # img[None] will have shape of (1, 32, 32, 3) which is the same as the model input\n",
        "    code = encoder.predict(img[None])[0]\n",
        "    reco = decoder.predict(code[None])[0]\n",
        "\n",
        "    plt.subplot(1,3,1)\n",
        "    plt.title(\"Original\")\n",
        "    show_image(img)\n",
        "\n",
        "    plt.subplot(1,3,2)\n",
        "    plt.title(\"Code\")\n",
        "    plt.imshow(code.reshape([code.shape[-1]//2,-1]))\n",
        "\n",
        "    plt.subplot(1,3,3)\n",
        "    plt.title(\"Reconstructed\")\n",
        "    show_image(reco)\n",
        "    plt.show()\n",
        "\n",
        "for i in range(5):\n",
        "    img = X_test[i]\n",
        "    visualize(img,encoder,decoder)"
      ],
      "execution_count": null,
      "outputs": [
        {
          "output_type": "display_data",
          "data": {
            "image/png": "[encoded data removed]",
            "text/plain": [
              "<Figure size 432x288 with 3 Axes>"
            ]
          },
          "metadata": {
            "tags": [],
            "needs_background": "light"
          }
        },
        {
          "output_type": "display_data",
          "data": {
            "image/png": "[encoded data removed]",
            "text/plain": [
              "<Figure size 432x288 with 3 Axes>"
            ]
          },
          "metadata": {
            "tags": [],
            "needs_background": "light"
          }
        },
        {
          "output_type": "display_data",
          "data": {
            "image/png": "[encoded data removed]",
            "text/plain": [
              "<Figure size 432x288 with 3 Axes>"
            ]
          },
          "metadata": {
            "tags": [],
            "needs_background": "light"
          }
        },
        {
          "output_type": "display_data",
          "data": {
            "image/png": "[encoded data removed]",
            "text/plain": [
              "<Figure size 432x288 with 3 Axes>"
            ]
          },
          "metadata": {
            "tags": [],
            "needs_background": "light"
          }
        },
        {
          "output_type": "display_data",
          "data": {
            "image/png": "[encoded data removed]",
            "text/plain": [
              "<Figure size 432x288 with 3 Axes>"
            ]
          },
          "metadata": {
            "tags": [],
            "needs_background": "light"
          }
        }
      ]
    }
  ]
}